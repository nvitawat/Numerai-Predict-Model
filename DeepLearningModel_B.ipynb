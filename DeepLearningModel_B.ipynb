{
 "cells": [
  {
   "cell_type": "markdown",
   "metadata": {},
   "source": [
    "# Numerai Prediction with Deep Learning - Model B"
   ]
  },
  {
   "cell_type": "raw",
   "metadata": {},
   "source": [
    "Solution : Use original features train the model. "
   ]
  },
  {
   "cell_type": "markdown",
   "metadata": {},
   "source": [
    "## Import relevant Libraries"
   ]
  },
  {
   "cell_type": "code",
   "execution_count": 1,
   "metadata": {},
   "outputs": [],
   "source": [
    "import numpy as np\n",
    "import pandas as pd\n",
    "import matplotlib.pyplot as plt\n",
    "import tensorflow as tf\n",
    "import matplotlib.pyplot as plt\n",
    "import random\n",
    "from numpy.random import seed\n",
    "from sklearn.preprocessing import StandardScaler"
   ]
  },
  {
   "cell_type": "markdown",
   "metadata": {},
   "source": [
    "## Load data"
   ]
  },
  {
   "cell_type": "code",
   "execution_count": 2,
   "metadata": {},
   "outputs": [],
   "source": [
    "train_data = pd.read_csv('/Users/vitawat/Documents/Python/Numerai/numerai_training_data.csv')\n",
    "tournament_data = pd.read_csv('/Users/vitawat/Documents/Python/Numerai/numerai_tournament_data.csv')\n",
    "validation_data = tournament_data[tournament_data['data_type'] == 'validation' ]"
   ]
  },
  {
   "cell_type": "markdown",
   "metadata": {},
   "source": [
    "## Preprocessing data"
   ]
  },
  {
   "cell_type": "code",
   "execution_count": 3,
   "metadata": {
    "scrolled": true
   },
   "outputs": [
    {
     "name": "stderr",
     "output_type": "stream",
     "text": [
      "/Users/vitawat/anaconda2/envs/py3-TF2.0/lib/python3.7/site-packages/ipykernel_launcher.py:2: SettingWithCopyWarning: \n",
      "A value is trying to be set on a copy of a slice from a DataFrame.\n",
      "Try using .loc[row_indexer,col_indexer] = value instead\n",
      "\n",
      "See the caveats in the documentation: http://pandas.pydata.org/pandas-docs/stable/user_guide/indexing.html#returning-a-view-versus-a-copy\n",
      "  \n"
     ]
    }
   ],
   "source": [
    "train_data['target_label'] = train_data['target_kazutsugi'].map({0.00:0, 0.25:1, 0.5:2, 0.75:3, 1.00:4})\n",
    "validation_data['target_label'] = validation_data['target_kazutsugi'].map({0.00:0, 0.25:1, 0.5:2, 0.75:3, 1.00:4})"
   ]
  },
  {
   "cell_type": "code",
   "execution_count": 4,
   "metadata": {},
   "outputs": [],
   "source": [
    "train_targets, train_inputs = np.array(train_data['target_label']),np.array(train_data.iloc[:,3:313])\n",
    "validation_targets, validation_inputs = np.array(validation_data['target_label']), np.array(validation_data.iloc[:,3:313])"
   ]
  },
  {
   "cell_type": "markdown",
   "metadata": {},
   "source": [
    "## Model"
   ]
  },
  {
   "cell_type": "code",
   "execution_count": 71,
   "metadata": {},
   "outputs": [
    {
     "name": "stdout",
     "output_type": "stream",
     "text": [
      "Train on 501808 samples, validate on 56261 samples\n",
      "Epoch 1/250\n",
      "501808/501808 - 61s - loss: 1.6097 - accuracy: 0.2208 - val_loss: 1.5979 - val_accuracy: 0.2360\n",
      "Epoch 2/250\n",
      "501808/501808 - 62s - loss: 1.5965 - accuracy: 0.2331 - val_loss: 1.5897 - val_accuracy: 0.2415\n",
      "Epoch 3/250\n",
      "501808/501808 - 61s - loss: 1.5907 - accuracy: 0.2382 - val_loss: 1.5853 - val_accuracy: 0.2436\n",
      "Epoch 4/250\n",
      "501808/501808 - 61s - loss: 1.5873 - accuracy: 0.2417 - val_loss: 1.5825 - val_accuracy: 0.2452\n",
      "Epoch 5/250\n",
      "501808/501808 - 60s - loss: 1.5849 - accuracy: 0.2441 - val_loss: 1.5805 - val_accuracy: 0.2468\n",
      "Epoch 6/250\n",
      "501808/501808 - 61s - loss: 1.5831 - accuracy: 0.2458 - val_loss: 1.5790 - val_accuracy: 0.2489\n",
      "Epoch 7/250\n",
      "501808/501808 - 69s - loss: 1.5818 - accuracy: 0.2473 - val_loss: 1.5778 - val_accuracy: 0.2491\n",
      "Epoch 8/250\n",
      "501808/501808 - 64s - loss: 1.5806 - accuracy: 0.2484 - val_loss: 1.5769 - val_accuracy: 0.2508\n",
      "Epoch 9/250\n",
      "501808/501808 - 63s - loss: 1.5798 - accuracy: 0.2496 - val_loss: 1.5761 - val_accuracy: 0.2502\n",
      "Epoch 10/250\n",
      "501808/501808 - 63s - loss: 1.5790 - accuracy: 0.2502 - val_loss: 1.5754 - val_accuracy: 0.2531\n",
      "Epoch 11/250\n",
      "501808/501808 - 63s - loss: 1.5783 - accuracy: 0.2514 - val_loss: 1.5749 - val_accuracy: 0.2500\n",
      "Epoch 12/250\n",
      "501808/501808 - 1763s - loss: 1.5778 - accuracy: 0.2519 - val_loss: 1.5744 - val_accuracy: 0.2518\n",
      "Epoch 13/250\n",
      "501808/501808 - 61s - loss: 1.5773 - accuracy: 0.2529 - val_loss: 1.5739 - val_accuracy: 0.2528\n",
      "Epoch 14/250\n",
      "501808/501808 - 61s - loss: 1.5769 - accuracy: 0.2533 - val_loss: 1.5736 - val_accuracy: 0.2540\n",
      "Epoch 15/250\n",
      "501808/501808 - 61s - loss: 1.5765 - accuracy: 0.2534 - val_loss: 1.5732 - val_accuracy: 0.2535\n",
      "Epoch 16/250\n",
      "501808/501808 - 60s - loss: 1.5761 - accuracy: 0.2537 - val_loss: 1.5730 - val_accuracy: 0.2546\n",
      "Epoch 17/250\n",
      "501808/501808 - 61s - loss: 1.5758 - accuracy: 0.2548 - val_loss: 1.5726 - val_accuracy: 0.2539\n",
      "Epoch 18/250\n",
      "501808/501808 - 62s - loss: 1.5755 - accuracy: 0.2553 - val_loss: 1.5724 - val_accuracy: 0.2537\n",
      "Epoch 19/250\n",
      "501808/501808 - 66s - loss: 1.5752 - accuracy: 0.2552 - val_loss: 1.5722 - val_accuracy: 0.2540\n",
      "Epoch 20/250\n",
      "501808/501808 - 61s - loss: 1.5750 - accuracy: 0.2554 - val_loss: 1.5720 - val_accuracy: 0.2543\n",
      "Epoch 21/250\n",
      "501808/501808 - 60s - loss: 1.5747 - accuracy: 0.2554 - val_loss: 1.5719 - val_accuracy: 0.2554\n",
      "Epoch 22/250\n",
      "501808/501808 - 62s - loss: 1.5745 - accuracy: 0.2561 - val_loss: 1.5717 - val_accuracy: 0.2553\n",
      "Epoch 23/250\n",
      "501808/501808 - 62s - loss: 1.5743 - accuracy: 0.2564 - val_loss: 1.5716 - val_accuracy: 0.2553\n",
      "Epoch 24/250\n",
      "501808/501808 - 2872s - loss: 1.5741 - accuracy: 0.2566 - val_loss: 1.5716 - val_accuracy: 0.2547\n",
      "Epoch 25/250\n",
      "501808/501808 - 61s - loss: 1.5740 - accuracy: 0.2569 - val_loss: 1.5712 - val_accuracy: 0.2555\n",
      "Epoch 26/250\n",
      "501808/501808 - 60s - loss: 1.5738 - accuracy: 0.2572 - val_loss: 1.5713 - val_accuracy: 0.2553\n",
      "Epoch 27/250\n",
      "501808/501808 - 61s - loss: 1.5736 - accuracy: 0.2572 - val_loss: 1.5711 - val_accuracy: 0.2541\n",
      "Epoch 28/250\n",
      "501808/501808 - 60s - loss: 1.5735 - accuracy: 0.2576 - val_loss: 1.5709 - val_accuracy: 0.2563\n",
      "Epoch 29/250\n",
      "501808/501808 - 66s - loss: 1.5734 - accuracy: 0.2579 - val_loss: 1.5708 - val_accuracy: 0.2558\n",
      "Epoch 30/250\n",
      "501808/501808 - 61s - loss: 1.5732 - accuracy: 0.2578 - val_loss: 1.5707 - val_accuracy: 0.2565\n",
      "Epoch 31/250\n",
      "501808/501808 - 61s - loss: 1.5731 - accuracy: 0.2580 - val_loss: 1.5706 - val_accuracy: 0.2556\n",
      "Epoch 32/250\n",
      "501808/501808 - 69s - loss: 1.5729 - accuracy: 0.2583 - val_loss: 1.5705 - val_accuracy: 0.2571\n",
      "Epoch 33/250\n",
      "501808/501808 - 67s - loss: 1.5728 - accuracy: 0.2586 - val_loss: 1.5704 - val_accuracy: 0.2560\n",
      "Epoch 34/250\n",
      "501808/501808 - 68s - loss: 1.5727 - accuracy: 0.2587 - val_loss: 1.5705 - val_accuracy: 0.2568\n",
      "Epoch 35/250\n",
      "501808/501808 - 69s - loss: 1.5726 - accuracy: 0.2588 - val_loss: 1.5703 - val_accuracy: 0.2557\n",
      "Epoch 36/250\n",
      "501808/501808 - 65s - loss: 1.5725 - accuracy: 0.2587 - val_loss: 1.5702 - val_accuracy: 0.2569\n",
      "Epoch 37/250\n",
      "501808/501808 - 71s - loss: 1.5724 - accuracy: 0.2588 - val_loss: 1.5701 - val_accuracy: 0.2559\n",
      "Epoch 38/250\n",
      "501808/501808 - 71s - loss: 1.5723 - accuracy: 0.2591 - val_loss: 1.5701 - val_accuracy: 0.2565\n",
      "Epoch 39/250\n",
      "501808/501808 - 71s - loss: 1.5722 - accuracy: 0.2594 - val_loss: 1.5701 - val_accuracy: 0.2568\n",
      "Epoch 40/250\n",
      "501808/501808 - 78s - loss: 1.5721 - accuracy: 0.2595 - val_loss: 1.5700 - val_accuracy: 0.2567\n",
      "Epoch 41/250\n",
      "501808/501808 - 74s - loss: 1.5720 - accuracy: 0.2594 - val_loss: 1.5699 - val_accuracy: 0.2565\n",
      "Epoch 42/250\n",
      "501808/501808 - 80s - loss: 1.5719 - accuracy: 0.2599 - val_loss: 1.5699 - val_accuracy: 0.2568\n",
      "Epoch 43/250\n",
      "501808/501808 - 65s - loss: 1.5718 - accuracy: 0.2597 - val_loss: 1.5699 - val_accuracy: 0.2566\n",
      "Epoch 44/250\n",
      "501808/501808 - 69s - loss: 1.5717 - accuracy: 0.2599 - val_loss: 1.5698 - val_accuracy: 0.2571\n",
      "Epoch 45/250\n",
      "501808/501808 - 69s - loss: 1.5716 - accuracy: 0.2600 - val_loss: 1.5698 - val_accuracy: 0.2567\n",
      "Epoch 46/250\n",
      "501808/501808 - 74s - loss: 1.5715 - accuracy: 0.2605 - val_loss: 1.5697 - val_accuracy: 0.2572\n",
      "Epoch 47/250\n",
      "501808/501808 - 67s - loss: 1.5714 - accuracy: 0.2601 - val_loss: 1.5697 - val_accuracy: 0.2577\n",
      "Epoch 48/250\n",
      "501808/501808 - 69s - loss: 1.5714 - accuracy: 0.2605 - val_loss: 1.5696 - val_accuracy: 0.2566\n",
      "Epoch 49/250\n",
      "501808/501808 - 74s - loss: 1.5713 - accuracy: 0.2607 - val_loss: 1.5696 - val_accuracy: 0.2567\n",
      "Epoch 50/250\n",
      "501808/501808 - 72s - loss: 1.5712 - accuracy: 0.2610 - val_loss: 1.5695 - val_accuracy: 0.2570\n",
      "Epoch 51/250\n",
      "501808/501808 - 72s - loss: 1.5711 - accuracy: 0.2607 - val_loss: 1.5695 - val_accuracy: 0.2560\n",
      "Epoch 52/250\n",
      "501808/501808 - 68s - loss: 1.5711 - accuracy: 0.2612 - val_loss: 1.5695 - val_accuracy: 0.2576\n",
      "Epoch 53/250\n",
      "501808/501808 - 65s - loss: 1.5710 - accuracy: 0.2611 - val_loss: 1.5694 - val_accuracy: 0.2578\n",
      "Epoch 54/250\n",
      "501808/501808 - 64s - loss: 1.5709 - accuracy: 0.2611 - val_loss: 1.5694 - val_accuracy: 0.2568\n",
      "Epoch 55/250\n",
      "501808/501808 - 66s - loss: 1.5709 - accuracy: 0.2615 - val_loss: 1.5696 - val_accuracy: 0.2558\n",
      "Epoch 56/250\n",
      "501808/501808 - 65s - loss: 1.5708 - accuracy: 0.2615 - val_loss: 1.5693 - val_accuracy: 0.2583\n",
      "Epoch 57/250\n",
      "501808/501808 - 65s - loss: 1.5707 - accuracy: 0.2615 - val_loss: 1.5693 - val_accuracy: 0.2568\n",
      "Epoch 58/250\n",
      "501808/501808 - 66s - loss: 1.5707 - accuracy: 0.2618 - val_loss: 1.5693 - val_accuracy: 0.2572\n",
      "Epoch 59/250\n",
      "501808/501808 - 76s - loss: 1.5706 - accuracy: 0.2616 - val_loss: 1.5692 - val_accuracy: 0.2577\n",
      "Epoch 60/250\n",
      "501808/501808 - 75s - loss: 1.5705 - accuracy: 0.2619 - val_loss: 1.5692 - val_accuracy: 0.2588\n",
      "Epoch 61/250\n",
      "501808/501808 - 70s - loss: 1.5705 - accuracy: 0.2618 - val_loss: 1.5692 - val_accuracy: 0.2578\n",
      "Epoch 62/250\n",
      "501808/501808 - 70s - loss: 1.5704 - accuracy: 0.2616 - val_loss: 1.5692 - val_accuracy: 0.2585\n",
      "Epoch 63/250\n",
      "501808/501808 - 72s - loss: 1.5704 - accuracy: 0.2621 - val_loss: 1.5692 - val_accuracy: 0.2574\n",
      "Epoch 64/250\n",
      "501808/501808 - 69s - loss: 1.5703 - accuracy: 0.2622 - val_loss: 1.5691 - val_accuracy: 0.2583\n",
      "Epoch 65/250\n",
      "501808/501808 - 77s - loss: 1.5702 - accuracy: 0.2624 - val_loss: 1.5692 - val_accuracy: 0.2577\n",
      "Epoch 66/250\n",
      "501808/501808 - 73s - loss: 1.5702 - accuracy: 0.2623 - val_loss: 1.5691 - val_accuracy: 0.2585\n",
      "Epoch 67/250\n",
      "501808/501808 - 85s - loss: 1.5701 - accuracy: 0.2624 - val_loss: 1.5691 - val_accuracy: 0.2579\n",
      "Epoch 68/250\n",
      "501808/501808 - 69s - loss: 1.5701 - accuracy: 0.2624 - val_loss: 1.5690 - val_accuracy: 0.2586\n",
      "Epoch 69/250\n",
      "501808/501808 - 73s - loss: 1.5700 - accuracy: 0.2627 - val_loss: 1.5691 - val_accuracy: 0.2582\n",
      "Epoch 70/250\n",
      "501808/501808 - 75s - loss: 1.5700 - accuracy: 0.2624 - val_loss: 1.5690 - val_accuracy: 0.2578\n",
      "Epoch 71/250\n",
      "501808/501808 - 68s - loss: 1.5699 - accuracy: 0.2627 - val_loss: 1.5690 - val_accuracy: 0.2589\n",
      "Epoch 72/250\n",
      "501808/501808 - 66s - loss: 1.5699 - accuracy: 0.2628 - val_loss: 1.5689 - val_accuracy: 0.2575\n",
      "Epoch 73/250\n",
      "501808/501808 - 65s - loss: 1.5698 - accuracy: 0.2626 - val_loss: 1.5690 - val_accuracy: 0.2582\n",
      "Epoch 74/250\n",
      "501808/501808 - 75s - loss: 1.5698 - accuracy: 0.2631 - val_loss: 1.5689 - val_accuracy: 0.2579\n",
      "Epoch 75/250\n",
      "501808/501808 - 72s - loss: 1.5697 - accuracy: 0.2629 - val_loss: 1.5689 - val_accuracy: 0.2585\n"
     ]
    },
    {
     "name": "stdout",
     "output_type": "stream",
     "text": [
      "Epoch 76/250\n",
      "501808/501808 - 75s - loss: 1.5697 - accuracy: 0.2631 - val_loss: 1.5689 - val_accuracy: 0.2591\n",
      "Epoch 77/250\n",
      "501808/501808 - 75s - loss: 1.5696 - accuracy: 0.2632 - val_loss: 1.5689 - val_accuracy: 0.2586\n",
      "Epoch 78/250\n",
      "501808/501808 - 71s - loss: 1.5696 - accuracy: 0.2632 - val_loss: 1.5688 - val_accuracy: 0.2589\n",
      "Epoch 79/250\n",
      "501808/501808 - 71s - loss: 1.5695 - accuracy: 0.2634 - val_loss: 1.5688 - val_accuracy: 0.2584\n",
      "Epoch 80/250\n",
      "501808/501808 - 67s - loss: 1.5695 - accuracy: 0.2632 - val_loss: 1.5688 - val_accuracy: 0.2585\n",
      "Epoch 81/250\n",
      "501808/501808 - 71s - loss: 1.5694 - accuracy: 0.2634 - val_loss: 1.5688 - val_accuracy: 0.2592\n",
      "Epoch 82/250\n",
      "501808/501808 - 71s - loss: 1.5694 - accuracy: 0.2638 - val_loss: 1.5688 - val_accuracy: 0.2592\n",
      "Epoch 83/250\n",
      "501808/501808 - 79s - loss: 1.5693 - accuracy: 0.2638 - val_loss: 1.5688 - val_accuracy: 0.2588\n",
      "Epoch 84/250\n",
      "501808/501808 - 78s - loss: 1.5693 - accuracy: 0.2639 - val_loss: 1.5688 - val_accuracy: 0.2588\n"
     ]
    },
    {
     "data": {
      "text/plain": [
       "<tensorflow.python.keras.callbacks.History at 0x148f1ecd0>"
      ]
     },
     "execution_count": 71,
     "metadata": {},
     "output_type": "execute_result"
    }
   ],
   "source": [
    "# need to run with the same results, set seed\n",
    "seed(1)\n",
    "tf.random.set_seed(1)\n",
    "\n",
    "input_size = 310\n",
    "output_size = 5\n",
    "hidden_layer_size = 400\n",
    "NUM_EPOCHS = 250\n",
    "BATCH_SIZE = 32\n",
    "early_stopping = tf.keras.callbacks.EarlyStopping(patience = 2)\n",
    "\n",
    "model = tf.keras.Sequential([\n",
    "                            tf.keras.layers.Dense(hidden_layer_size,activation='relu'),\n",
    "                            tf.keras.layers.Dense(hidden_layer_size,activation='relu'),\n",
    "                            tf.keras.layers.Dense(output_size,activation='softmax')\n",
    "                            ])\n",
    "\n",
    "optimizer = tf.keras.optimizers.SGD(lr = 0.0001)\n",
    "model.compile(optimizer = optimizer ,loss = 'sparse_categorical_crossentropy', metrics=['accuracy'])\n",
    "model.fit(train_inputs,train_targets,\n",
    "          batch_size = BATCH_SIZE,\n",
    "          epochs = NUM_EPOCHS,\n",
    "          callbacks = [early_stopping],\n",
    "          validation_data = (validation_inputs, validation_targets),\n",
    "          verbose = 2)"
   ]
  },
  {
   "cell_type": "markdown",
   "metadata": {},
   "source": [
    "### Numerai score on train data "
   ]
  },
  {
   "cell_type": "code",
   "execution_count": 72,
   "metadata": {},
   "outputs": [],
   "source": [
    "def numerai_score(y_true, y_pred):\n",
    "    rank_pred = y_pred.rank(pct = True, method = \"first\")\n",
    "    return np.corrcoef(y_true, rank_pred)[0,1]"
   ]
  },
  {
   "cell_type": "code",
   "execution_count": 73,
   "metadata": {},
   "outputs": [
    {
     "name": "stdout",
     "output_type": "stream",
     "text": [
      "numerai score on train data :  0.05906\n"
     ]
    }
   ],
   "source": [
    "pred = model.predict(train_inputs)\n",
    "\n",
    "train_data_pred = train_data.copy()\n",
    "train_data_pred['prob 00'] =  pred[:,0]\n",
    "train_data_pred['prob 25'] =  pred[:,1]\n",
    "train_data_pred['prob 50'] =  pred[:,2]\n",
    "train_data_pred['prob 75'] =  pred[:,3]\n",
    "train_data_pred['prob 100'] =  pred[:,4]\n",
    "\n",
    "train_data_pred['predicted'] = (train_data_pred['prob 00']*0 + \n",
    "                               train_data_pred['prob 25']*0.25 +\n",
    "                               train_data_pred['prob 50']*0.50 +\n",
    "                               train_data_pred['prob 75']*0.75 +\n",
    "                               train_data_pred['prob 100']*1.00)\n",
    "\n",
    "print ('numerai score on train data : ' ,\n",
    "       round(numerai_score(train_data_pred['target_kazutsugi'], train_data_pred['predicted']),5))"
   ]
  },
  {
   "cell_type": "markdown",
   "metadata": {},
   "source": [
    "### Numerai score on validation data"
   ]
  },
  {
   "cell_type": "code",
   "execution_count": 74,
   "metadata": {},
   "outputs": [
    {
     "name": "stdout",
     "output_type": "stream",
     "text": [
      "numerai score on validation data :  0.03154\n"
     ]
    }
   ],
   "source": [
    "pred = model.predict(validation_inputs)\n",
    "\n",
    "validation_data_pred = validation_data.copy()\n",
    "validation_data_pred['prob 00'] =  pred[:,0]\n",
    "validation_data_pred['prob 25'] =  pred[:,1]\n",
    "validation_data_pred['prob 50'] =  pred[:,2]\n",
    "validation_data_pred['prob 75'] =  pred[:,3]\n",
    "validation_data_pred['prob 100'] =  pred[:,4]\n",
    "\n",
    "validation_data_pred['predicted'] = (validation_data_pred['prob 00']*0 + \n",
    "                               validation_data_pred['prob 25']*0.25 +\n",
    "                               validation_data_pred['prob 50']*0.50 +\n",
    "                               validation_data_pred['prob 75']*0.75 +\n",
    "                               validation_data_pred['prob 100']*1.00)\n",
    "\n",
    "print ('numerai score on validation data : ' ,\n",
    "       round(numerai_score(validation_data_pred['target_kazutsugi'], validation_data_pred['predicted']),5))"
   ]
  },
  {
   "cell_type": "markdown",
   "metadata": {},
   "source": [
    "### Correlation and consistency on validation data"
   ]
  },
  {
   "cell_type": "code",
   "execution_count": 75,
   "metadata": {},
   "outputs": [],
   "source": [
    "consistant = 0\n",
    "corr = []\n",
    "era = []\n",
    "for i in validation_data_pred['era'].unique() :\n",
    "    data = validation_data_pred[validation_data_pred['era'] == i]\n",
    "    score = round(numerai_score(data['target_kazutsugi'],data['predicted']),5)\n",
    "    if score > 0 :\n",
    "        consistant = consistant + 1\n",
    "    else :\n",
    "        consistant = consistant  \n",
    "    \n",
    "    era.append(i)\n",
    "    corr.append(score)\n",
    "    \n",
    "correlation_table = pd.DataFrame(data = [corr], columns = era)\n",
    "mean = correlation_table.mean(axis = 1)\n",
    "sd = correlation_table.std(axis = 1)\n",
    "correlation_table['Mean'] = mean\n",
    "correlation_table['SD'] = sd\n"
   ]
  },
  {
   "cell_type": "markdown",
   "metadata": {},
   "source": [
    "## Result"
   ]
  },
  {
   "cell_type": "code",
   "execution_count": 89,
   "metadata": {},
   "outputs": [
    {
     "data": {
      "image/png": "[encoded data removed]",
      "text/plain": [
       "<Figure size 432x288 with 1 Axes>"
      ]
     },
     "metadata": {
      "needs_background": "light"
     },
     "output_type": "display_data"
    },
    {
     "data": {
      "image/png": "[encoded data removed]",
      "text/plain": [
       "<Figure size 432x288 with 1 Axes>"
      ]
     },
     "metadata": {
      "needs_background": "light"
     },
     "output_type": "display_data"
    },
    {
     "name": "stdout",
     "output_type": "stream",
     "text": [
      "numerai score on train data :  0.05906\n",
      "numerai score on validation data :  0.03154\n",
      "Consistant :  1.0\n",
      "Summary on validation data by era\n"
     ]
    },
    {
     "data": {
      "text/html": [
       "<div>\n",
       "<style scoped>\n",
       "    .dataframe tbody tr th:only-of-type {\n",
       "        vertical-align: middle;\n",
       "    }\n",
       "\n",
       "    .dataframe tbody tr th {\n",
       "        vertical-align: top;\n",
       "    }\n",
       "\n",
       "    .dataframe thead th {\n",
       "        text-align: right;\n",
       "    }\n",
       "</style>\n",
       "<table border=\"1\" class=\"dataframe\">\n",
       "  <thead>\n",
       "    <tr style=\"text-align: right;\">\n",
       "      <th></th>\n",
       "      <th>era121</th>\n",
       "      <th>era122</th>\n",
       "      <th>era123</th>\n",
       "      <th>era124</th>\n",
       "      <th>era125</th>\n",
       "      <th>era126</th>\n",
       "      <th>era127</th>\n",
       "      <th>era128</th>\n",
       "      <th>era129</th>\n",
       "      <th>era130</th>\n",
       "      <th>era131</th>\n",
       "      <th>era132</th>\n",
       "      <th>Mean</th>\n",
       "      <th>SD</th>\n",
       "    </tr>\n",
       "  </thead>\n",
       "  <tbody>\n",
       "    <tr>\n",
       "      <th>0</th>\n",
       "      <td>0.0154</td>\n",
       "      <td>0.02583</td>\n",
       "      <td>0.04217</td>\n",
       "      <td>0.03596</td>\n",
       "      <td>0.03109</td>\n",
       "      <td>0.01715</td>\n",
       "      <td>0.00599</td>\n",
       "      <td>0.05887</td>\n",
       "      <td>0.01215</td>\n",
       "      <td>0.02654</td>\n",
       "      <td>0.03117</td>\n",
       "      <td>0.07527</td>\n",
       "      <td>0.031466</td>\n",
       "      <td>0.019877</td>\n",
       "    </tr>\n",
       "  </tbody>\n",
       "</table>\n",
       "</div>"
      ],
      "text/plain": [
       "   era121   era122   era123   era124   era125   era126   era127   era128  \\\n",
       "0  0.0154  0.02583  0.04217  0.03596  0.03109  0.01715  0.00599  0.05887   \n",
       "\n",
       "    era129   era130   era131   era132      Mean        SD  \n",
       "0  0.01215  0.02654  0.03117  0.07527  0.031466  0.019877  "
      ]
     },
     "execution_count": 89,
     "metadata": {},
     "output_type": "execute_result"
    }
   ],
   "source": [
    "loss = model.history.history['loss']\n",
    "accuracy = model.history.history['accuracy']\n",
    "val_loss = model.history.history['val_loss']\n",
    "val_accuracy = model.history.history['val_accuracy']\n",
    "plt.plot(range(1,len(loss)+1), loss, label = 'train')\n",
    "plt.plot(range(1,len(loss)+1), val_loss, label = 'validation')\n",
    "plt.title('Loss by epochs')\n",
    "plt.xlabel('epochs')\n",
    "plt.ylabel('Loss')\n",
    "plt.legend()\n",
    "plt.show()\n",
    "plt.plot(range(1,len(loss)+1), accuracy, label = 'train')\n",
    "plt.plot(range(1,len(loss)+1), val_accuracy, label = 'validation')\n",
    "plt.title('Accuracy by epochs')\n",
    "plt.xlabel('epochs')\n",
    "plt.ylabel('accuracy')\n",
    "plt.legend()\n",
    "plt.show()\n",
    "\n",
    "print ('numerai score on train data : ' ,\n",
    "       round(numerai_score(train_data_pred['target_kazutsugi'], train_data_pred['predicted']),5))\n",
    "\n",
    "print ('numerai score on validation data : ' ,\n",
    "       round(numerai_score(validation_data_pred['target_kazutsugi'], validation_data_pred['predicted']),5))\n",
    "\n",
    "print ('Consistant : ', round(consistant/12,5))\n",
    "print ('Summary on validation data by era')\n",
    "\n",
    "correlation_table\n",
    "\n"
   ]
  },
  {
   "cell_type": "markdown",
   "metadata": {},
   "source": [
    "## Save Selected Model"
   ]
  },
  {
   "cell_type": "code",
   "execution_count": 78,
   "metadata": {},
   "outputs": [
    {
     "name": "stdout",
     "output_type": "stream",
     "text": [
      "INFO:tensorflow:Assets written to: model_B/assets\n"
     ]
    }
   ],
   "source": [
    "model.save('model_B')      # Now model saved in the name of model_B"
   ]
  },
  {
   "cell_type": "markdown",
   "metadata": {},
   "source": [
    "## Finish model building........and start to predict with tournament data"
   ]
  },
  {
   "cell_type": "markdown",
   "metadata": {},
   "source": [
    "## Predicting"
   ]
  },
  {
   "cell_type": "markdown",
   "metadata": {},
   "source": [
    "#### 1) Import relevant libraries "
   ]
  },
  {
   "cell_type": "code",
   "execution_count": 1,
   "metadata": {},
   "outputs": [],
   "source": [
    "import numpy as np\n",
    "import pandas as pd\n",
    "import matplotlib.pyplot as plt\n",
    "import tensorflow as tf\n",
    "import matplotlib.pyplot as plt\n",
    "import random\n",
    "from numpy.random import seed\n",
    "from sklearn.preprocessing import StandardScaler"
   ]
  },
  {
   "cell_type": "markdown",
   "metadata": {},
   "source": [
    "#### 2) Load tournament data"
   ]
  },
  {
   "cell_type": "code",
   "execution_count": 2,
   "metadata": {},
   "outputs": [],
   "source": [
    "tournament_data = pd.read_csv('/Users/vitawat/Documents/Python/Numerai/numerai_tournament_data.csv')"
   ]
  },
  {
   "cell_type": "markdown",
   "metadata": {},
   "source": [
    "#### 3} Preprocessing"
   ]
  },
  {
   "cell_type": "code",
   "execution_count": 3,
   "metadata": {},
   "outputs": [],
   "source": [
    "tournament_data['target_label'] = np.nan\n",
    "tournament_targets, tournament_inputs = np.array(tournament_data['target_label']),np.array(tournament_data.iloc[:,3:313])"
   ]
  },
  {
   "cell_type": "markdown",
   "metadata": {},
   "source": [
    "#### 4)  Load Model"
   ]
  },
  {
   "cell_type": "code",
   "execution_count": 4,
   "metadata": {},
   "outputs": [],
   "source": [
    "model_B = tf.keras.models.load_model('model_B')"
   ]
  },
  {
   "cell_type": "markdown",
   "metadata": {},
   "source": [
    "#### 5) Predict"
   ]
  },
  {
   "cell_type": "code",
   "execution_count": 5,
   "metadata": {},
   "outputs": [],
   "source": [
    "pred = model_B.predict(tournament_inputs)\n",
    "\n",
    "tournament_data_pred = tournament_data.copy()\n",
    "tournament_data_pred['prob 00'] =  pred[:,0]\n",
    "tournament_data_pred['prob 25'] =  pred[:,1]\n",
    "tournament_data_pred['prob 50'] =  pred[:,2]\n",
    "tournament_data_pred['prob 75'] =  pred[:,3]\n",
    "tournament_data_pred['prob 100'] =  pred[:,4]\n",
    "\n",
    "tournament_data_pred['predicted'] = (tournament_data_pred['prob 00']*0 + \n",
    "                               tournament_data_pred['prob 25']*0.25 +\n",
    "                               tournament_data_pred['prob 50']*0.50 +\n",
    "                               tournament_data_pred['prob 75']*0.75 +\n",
    "                               tournament_data_pred['prob 100']*1.00)\n"
   ]
  },
  {
   "cell_type": "markdown",
   "metadata": {},
   "source": [
    "#### 6) Make submission"
   ]
  },
  {
   "cell_type": "code",
   "execution_count": 6,
   "metadata": {},
   "outputs": [
    {
     "data": {
      "text/html": [
       "<div>\n",
       "<style scoped>\n",
       "    .dataframe tbody tr th:only-of-type {\n",
       "        vertical-align: middle;\n",
       "    }\n",
       "\n",
       "    .dataframe tbody tr th {\n",
       "        vertical-align: top;\n",
       "    }\n",
       "\n",
       "    .dataframe thead th {\n",
       "        text-align: right;\n",
       "    }\n",
       "</style>\n",
       "<table border=\"1\" class=\"dataframe\">\n",
       "  <thead>\n",
       "    <tr style=\"text-align: right;\">\n",
       "      <th></th>\n",
       "      <th>id</th>\n",
       "      <th>prediction_kazutsugi</th>\n",
       "    </tr>\n",
       "  </thead>\n",
       "  <tbody>\n",
       "    <tr>\n",
       "      <th>0</th>\n",
       "      <td>n0003aa52cab36c2</td>\n",
       "      <td>0.488471</td>\n",
       "    </tr>\n",
       "    <tr>\n",
       "      <th>1</th>\n",
       "      <td>n000920ed083903f</td>\n",
       "      <td>0.462299</td>\n",
       "    </tr>\n",
       "    <tr>\n",
       "      <th>2</th>\n",
       "      <td>n0038e640522c4a6</td>\n",
       "      <td>0.571928</td>\n",
       "    </tr>\n",
       "    <tr>\n",
       "      <th>3</th>\n",
       "      <td>n004ac94a87dc54b</td>\n",
       "      <td>0.514884</td>\n",
       "    </tr>\n",
       "    <tr>\n",
       "      <th>4</th>\n",
       "      <td>n0052fe97ea0c05f</td>\n",
       "      <td>0.510336</td>\n",
       "    </tr>\n",
       "    <tr>\n",
       "      <th>...</th>\n",
       "      <td>...</td>\n",
       "      <td>...</td>\n",
       "    </tr>\n",
       "    <tr>\n",
       "      <th>1676026</th>\n",
       "      <td>nffbb4995cb07742</td>\n",
       "      <td>0.471586</td>\n",
       "    </tr>\n",
       "    <tr>\n",
       "      <th>1676027</th>\n",
       "      <td>nffbf96bdd6b3ee3</td>\n",
       "      <td>0.512404</td>\n",
       "    </tr>\n",
       "    <tr>\n",
       "      <th>1676028</th>\n",
       "      <td>nffcce807fb53a41</td>\n",
       "      <td>0.510606</td>\n",
       "    </tr>\n",
       "    <tr>\n",
       "      <th>1676029</th>\n",
       "      <td>nffd0e48b79bfe80</td>\n",
       "      <td>0.522273</td>\n",
       "    </tr>\n",
       "    <tr>\n",
       "      <th>1676030</th>\n",
       "      <td>nfffdb9715409029</td>\n",
       "      <td>0.483057</td>\n",
       "    </tr>\n",
       "  </tbody>\n",
       "</table>\n",
       "<p>1676031 rows × 2 columns</p>\n",
       "</div>"
      ],
      "text/plain": [
       "                       id  prediction_kazutsugi\n",
       "0        n0003aa52cab36c2              0.488471\n",
       "1        n000920ed083903f              0.462299\n",
       "2        n0038e640522c4a6              0.571928\n",
       "3        n004ac94a87dc54b              0.514884\n",
       "4        n0052fe97ea0c05f              0.510336\n",
       "...                   ...                   ...\n",
       "1676026  nffbb4995cb07742              0.471586\n",
       "1676027  nffbf96bdd6b3ee3              0.512404\n",
       "1676028  nffcce807fb53a41              0.510606\n",
       "1676029  nffd0e48b79bfe80              0.522273\n",
       "1676030  nfffdb9715409029              0.483057\n",
       "\n",
       "[1676031 rows x 2 columns]"
      ]
     },
     "execution_count": 6,
     "metadata": {},
     "output_type": "execute_result"
    }
   ],
   "source": [
    "submission = pd.DataFrame(tournament_data_pred['id'])\n",
    "submission['prediction_kazutsugi'] = tournament_data_pred['predicted']\n",
    "submission"
   ]
  },
  {
   "cell_type": "markdown",
   "metadata": {},
   "source": [
    "#### 7) Save submission"
   ]
  },
  {
   "cell_type": "code",
   "execution_count": 7,
   "metadata": {},
   "outputs": [],
   "source": [
    "submission.to_csv('submission_model_B.csv', index = False)"
   ]
  },
  {
   "cell_type": "code",
   "execution_count": null,
   "metadata": {},
   "outputs": [],
   "source": []
  }
 ],
 "metadata": {
  "kernelspec": {
   "display_name": "Python 3",
   "language": "python",
   "name": "python3"
  },
  "language_info": {
   "codemirror_mode": {
    "name": "ipython",
    "version": 3
   },
   "file_extension": ".py",
   "mimetype": "text/x-python",
   "name": "python",
   "nbconvert_exporter": "python",
   "pygments_lexer": "ipython3",
   "version": "3.7.6"
  }
 },
 "nbformat": 4,
 "nbformat_minor": 2
}
